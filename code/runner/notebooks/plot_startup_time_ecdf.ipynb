{
  "nbformat": 4,
  "nbformat_minor": 0,
  "metadata": {
    "colab": {
      "name": "plot_startup_time_ecdf.ipynb",
      "provenance": [],
      "collapsed_sections": [],
      "toc_visible": true
    },
    "kernelspec": {
      "name": "python3",
      "display_name": "Python 3"
    }
  },
  "cells": [
    {
      "cell_type": "code",
      "metadata": {
        "id": "nrA2HjkoJyo2",
        "colab_type": "code",
        "colab": {}
      },
      "source": [
        "from mlxtend.plotting import ecdf\n",
        "import matplotlib.pyplot as plt\n",
        "from google.colab import files\n",
        "import pandas as pd\n",
        "from IPython.display import Image\n",
        "import io\n",
        "plt.rcParams.update({'figure.max_open_warning': 0})"
      ],
      "execution_count": 0,
      "outputs": []
    },
    {
      "cell_type": "code",
      "metadata": {
        "id": "lxnS1FdxCC3w",
        "colab_type": "code",
        "colab": {}
      },
      "source": [
        "file = input(\"The file to read from:\")\n",
        "x_axis = input(\"The x-axis label\")\n",
        "y_axis = input(\"The y-axis label\")"
      ],
      "execution_count": 0,
      "outputs": []
    },
    {
      "cell_type": "code",
      "metadata": {
        "id": "VhUd5pp8u8XF",
        "colab_type": "code",
        "colab": {}
      },
      "source": [
        "df = pd.read_csv(file, header=None)"
      ],
      "execution_count": 0,
      "outputs": []
    },
    {
      "cell_type": "code",
      "metadata": {
        "id": "-cF8gvsmKP3t",
        "colab_type": "code",
        "colab": {}
      },
      "source": [
        "for index, row in df.iterrows():\n",
        "    plt.figure()\n",
        "    plt.axhline(y=0.95, color='black', linestyle='-')\n",
        "    ecdf(x=list(row), x_label=x_axis, y_label=y_axis, ecdf_marker=',', percentile_linestyle='-')\n",
        "    "
      ],
      "execution_count": 0,
      "outputs": []
    }
  ]
}